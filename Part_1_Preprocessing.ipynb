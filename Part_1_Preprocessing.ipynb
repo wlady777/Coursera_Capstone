{
  "nbformat": 4,
  "nbformat_minor": 0,
  "metadata": {
    "kernelspec": {
      "display_name": "Python 3",
      "language": "python",
      "name": "python3"
    },
    "language_info": {
      "codemirror_mode": {
        "name": "ipython",
        "version": 3
      },
      "file_extension": ".py",
      "mimetype": "text/x-python",
      "name": "python",
      "nbconvert_exporter": "python",
      "pygments_lexer": "ipython3",
      "version": "3.6.6"
    },
    "colab": {
      "name": "Part 1-Preprocessing.ipynb",
      "provenance": [],
      "collapsed_sections": [],
      "include_colab_link": true
    }
  },
  "cells": [
    {
      "cell_type": "markdown",
      "metadata": {
        "id": "view-in-github",
        "colab_type": "text"
      },
      "source": [
        "<a href=\"https://colab.research.google.com/github/wlady777/Coursera_Capstone/blob/main/Part_1_Preprocessing.ipynb\" target=\"_parent\"><img src=\"https://colab.research.google.com/assets/colab-badge.svg\" alt=\"Open In Colab\"/></a>"
      ]
    },
    {
      "cell_type": "markdown",
      "metadata": {
        "id": "QEGHffOy8T5B"
      },
      "source": [
        "| Name | Description | Date\n",
        "| :- |-------------: | :-:\n",
        "|Reza Hashemi| IBM Applied Data Science Capstone.  | On 6th of August 2019\n",
        "\n",
        "\n",
        "# Peer-graded Assignment: Segmenting and Clustering Neighborhoods in Toronto"
      ]
    },
    {
      "cell_type": "markdown",
      "metadata": {
        "id": "4wGhQMj38T5C"
      },
      "source": [
        "# **For this assignment, you will be required to explore and cluster the neighborhoods in Toronto.**\n",
        "\n",
        "## **1- Start by creating a new Notebook for this assignment.**\n",
        "### **2- Use the Notebook to build the code to scrape the following Wikipedia page, https://en.wikipedia.org/wiki/List_of_postal_codes_of_Canada:_M, in order to obtain the data that is in the table of postal codes and to transform the data into a pandas dataframe**"
      ]
    },
    {
      "cell_type": "markdown",
      "metadata": {
        "id": "wyOirZWC8T5D"
      },
      "source": [
        "### **Pre-processing**"
      ]
    },
    {
      "cell_type": "code",
      "metadata": {
        "id": "VNVYNmbD8T5D"
      },
      "source": [
        "# importing necessary libraries\n",
        "import pandas as pd\n",
        "import numpy as np\n",
        "from bs4 import BeautifulSoup\n",
        "import requests"
      ],
      "execution_count": 1,
      "outputs": []
    },
    {
      "cell_type": "code",
      "metadata": {
        "id": "s6FULlWu8T5G"
      },
      "source": [
        "# getting data from internet\n",
        "wikipedia_link='https://en.wikipedia.org/wiki/List_of_postal_codes_of_Canada:_M'\n",
        "raw_wikipedia_page= requests.get(wikipedia_link).text\n",
        "\n",
        "# using beautiful soup to parse the HTML/XML codes.\n",
        "soup = BeautifulSoup(raw_wikipedia_page,'xml')\n",
        "#print(soup.prettify())"
      ],
      "execution_count": 2,
      "outputs": []
    },
    {
      "cell_type": "markdown",
      "metadata": {
        "id": "gzilOYsJ8T5I"
      },
      "source": [
        "### Processing-part-1: extracting raw table (from webpage)"
      ]
    },
    {
      "cell_type": "code",
      "metadata": {
        "id": "p2s7iuTQ8T5I"
      },
      "source": [
        "# extracting the raw table inside that webpage\n",
        "table = soup.find('table')\n",
        "\n",
        "Postcode      = []\n",
        "Borough       = []\n",
        "Neighbourhood = []\n",
        "\n",
        "# print(table)\n",
        "\n",
        "# extracting a clean form of the table\n",
        "for tr_cell in table.find_all('tr'):\n",
        "    \n",
        "    counter = 1\n",
        "    Postcode_var      = -1\n",
        "    Borough_var       = -1\n",
        "    Neighbourhood_var = -1\n",
        "    \n",
        "    for td_cell in tr_cell.find_all('td'):\n",
        "        if counter == 1: \n",
        "            Postcode_var = td_cell.text\n",
        "        if counter == 2: \n",
        "            Borough_var = td_cell.text\n",
        "            tag_a_Borough = td_cell.find('a')\n",
        "            \n",
        "        if counter == 3: \n",
        "            Neighbourhood_var = str(td_cell.text).strip()\n",
        "            tag_a_Neighbourhood = td_cell.find('a')\n",
        "            \n",
        "        counter +=1\n",
        "        \n",
        "    if (Postcode_var == 'Not assigned' or Borough_var == 'Not assigned' or Neighbourhood_var == 'Not assigned'): \n",
        "        continue\n",
        "    try:\n",
        "        if ((tag_a_Borough is None) or (tag_a_Neighbourhood is None)):\n",
        "            continue\n",
        "    except:\n",
        "        pass\n",
        "    if(Postcode_var == -1 or Borough_var == -1 or Neighbourhood_var == -1):\n",
        "        continue\n",
        "        \n",
        "    Postcode.append(Postcode_var)\n",
        "    Borough.append(Borough_var)\n",
        "    Neighbourhood.append(Neighbourhood_var)\n",
        "    "
      ],
      "execution_count": 3,
      "outputs": []
    },
    {
      "cell_type": "markdown",
      "metadata": {
        "id": "mToHf4uD8T5L"
      },
      "source": [
        "### Processing-part-2: integrating Postal codes with more than 1 neighbour"
      ]
    },
    {
      "cell_type": "code",
      "metadata": {
        "id": "5__ZPfgo8T5L",
        "colab": {
          "base_uri": "https://localhost:8080/"
        },
        "outputId": "a900bdef-c213-4aeb-b64b-2d1b3334d4b5"
      },
      "source": [
        "\n",
        "unique_p = set(Postcode)\n",
        "print('num of unique Postal codes:', len(unique_p))\n",
        "Postcode_u      = []\n",
        "Borough_u       = []\n",
        "Neighbourhood_u = []\n",
        "\n",
        "\n",
        "for postcode_unique_element in unique_p:\n",
        "    p_var = ''; b_var = ''; n_var = ''; \n",
        "    for postcode_idx, postcode_element in enumerate(Postcode):\n",
        "        if postcode_unique_element == postcode_element:\n",
        "            p_var = postcode_element;\n",
        "            b_var = Borough[postcode_idx]\n",
        "            if n_var == '': \n",
        "                n_var = Neighbourhood[postcode_idx]\n",
        "            else:\n",
        "                n_var = n_var + ', ' + Neighbourhood[postcode_idx]\n",
        "    Postcode_u.append(p_var)\n",
        "    Borough_u.append(b_var)\n",
        "    Neighbourhood_u.append(n_var)\n",
        "\n",
        "    "
      ],
      "execution_count": 4,
      "outputs": [
        {
          "output_type": "stream",
          "name": "stdout",
          "text": [
            "num of unique Postal codes: 6\n"
          ]
        }
      ]
    },
    {
      "cell_type": "markdown",
      "metadata": {
        "id": "UYLTGjPl8T5O"
      },
      "source": [
        "### Post-processing: creating an appropriate Pandas Dataframe"
      ]
    },
    {
      "cell_type": "code",
      "metadata": {
        "id": "fKkb2sIA8T5O",
        "colab": {
          "base_uri": "https://localhost:8080/",
          "height": 238
        },
        "outputId": "712c1726-07ac-4fd8-e787-d11781b5d5ba"
      },
      "source": [
        "toronto_dict = {'Postcode':Postcode_u, 'Borough':Borough_u, 'Neighbourhood':Neighbourhood_u}\n",
        "df_toronto = pd.DataFrame.from_dict(toronto_dict)\n",
        "df_toronto.to_csv('toronto_part1.csv')\n",
        "df_toronto.head(14)"
      ],
      "execution_count": 5,
      "outputs": [
        {
          "output_type": "execute_result",
          "data": {
            "text/plain": [
              "                                            Postcode  \\\n",
              "0                    \\nM1HScarborough(Cedarbrae)\\n\\n   \n",
              "1  \\nM1LScarborough(Golden Mile / Clairlea / Oakr...   \n",
              "2  \\nM1KScarborough(Kennedy Park / Ionview / East...   \n",
              "3          \\nM1JScarborough(Scarborough Village)\\n\\n   \n",
              "4  \\nM1NScarborough(Birch Cliff / Cliffside West)...   \n",
              "5  \\nM1MScarborough(Cliffside / Cliffcrest / Scar...   \n",
              "\n",
              "                                             Borough  \\\n",
              "0             \\nM2HNorth York(Hillcrest Village)\\n\\n   \n",
              "1     \\nM2LNorth York(York Mills / Silver Hills)\\n\\n   \n",
              "2               \\nM2KNorth York(Bayview Village)\\n\\n   \n",
              "3  \\nM2JNorth York(Fairview / Henry Farm / Oriole...   \n",
              "4               \\nM2NNorth York(Willowdale)South\\n\\n   \n",
              "5      \\nM2MNorth York(Willowdale / Newtonbrook)\\n\\n   \n",
              "\n",
              "                                       Neighbourhood  \n",
              "0  M3HNorth York(Bathurst Manor / Wilson Heights ...  \n",
              "1                       M3LNorth York(Downsview)West  \n",
              "2        M3KNorth York(Downsview)East  (CFB Toronto)  \n",
              "3    M3JNorth York(Northwood Park / York University)  \n",
              "4                  M3NNorth York(Downsview)Northwest  \n",
              "5                    M3MNorth York(Downsview)Central  "
            ],
            "text/html": [
              "\n",
              "  <div id=\"df-5b3c5801-29da-4892-8487-4b6bfc6779be\">\n",
              "    <div class=\"colab-df-container\">\n",
              "      <div>\n",
              "<style scoped>\n",
              "    .dataframe tbody tr th:only-of-type {\n",
              "        vertical-align: middle;\n",
              "    }\n",
              "\n",
              "    .dataframe tbody tr th {\n",
              "        vertical-align: top;\n",
              "    }\n",
              "\n",
              "    .dataframe thead th {\n",
              "        text-align: right;\n",
              "    }\n",
              "</style>\n",
              "<table border=\"1\" class=\"dataframe\">\n",
              "  <thead>\n",
              "    <tr style=\"text-align: right;\">\n",
              "      <th></th>\n",
              "      <th>Postcode</th>\n",
              "      <th>Borough</th>\n",
              "      <th>Neighbourhood</th>\n",
              "    </tr>\n",
              "  </thead>\n",
              "  <tbody>\n",
              "    <tr>\n",
              "      <th>0</th>\n",
              "      <td>\\nM1HScarborough(Cedarbrae)\\n\\n</td>\n",
              "      <td>\\nM2HNorth York(Hillcrest Village)\\n\\n</td>\n",
              "      <td>M3HNorth York(Bathurst Manor / Wilson Heights ...</td>\n",
              "    </tr>\n",
              "    <tr>\n",
              "      <th>1</th>\n",
              "      <td>\\nM1LScarborough(Golden Mile / Clairlea / Oakr...</td>\n",
              "      <td>\\nM2LNorth York(York Mills / Silver Hills)\\n\\n</td>\n",
              "      <td>M3LNorth York(Downsview)West</td>\n",
              "    </tr>\n",
              "    <tr>\n",
              "      <th>2</th>\n",
              "      <td>\\nM1KScarborough(Kennedy Park / Ionview / East...</td>\n",
              "      <td>\\nM2KNorth York(Bayview Village)\\n\\n</td>\n",
              "      <td>M3KNorth York(Downsview)East  (CFB Toronto)</td>\n",
              "    </tr>\n",
              "    <tr>\n",
              "      <th>3</th>\n",
              "      <td>\\nM1JScarborough(Scarborough Village)\\n\\n</td>\n",
              "      <td>\\nM2JNorth York(Fairview / Henry Farm / Oriole...</td>\n",
              "      <td>M3JNorth York(Northwood Park / York University)</td>\n",
              "    </tr>\n",
              "    <tr>\n",
              "      <th>4</th>\n",
              "      <td>\\nM1NScarborough(Birch Cliff / Cliffside West)...</td>\n",
              "      <td>\\nM2NNorth York(Willowdale)South\\n\\n</td>\n",
              "      <td>M3NNorth York(Downsview)Northwest</td>\n",
              "    </tr>\n",
              "    <tr>\n",
              "      <th>5</th>\n",
              "      <td>\\nM1MScarborough(Cliffside / Cliffcrest / Scar...</td>\n",
              "      <td>\\nM2MNorth York(Willowdale / Newtonbrook)\\n\\n</td>\n",
              "      <td>M3MNorth York(Downsview)Central</td>\n",
              "    </tr>\n",
              "  </tbody>\n",
              "</table>\n",
              "</div>\n",
              "      <button class=\"colab-df-convert\" onclick=\"convertToInteractive('df-5b3c5801-29da-4892-8487-4b6bfc6779be')\"\n",
              "              title=\"Convert this dataframe to an interactive table.\"\n",
              "              style=\"display:none;\">\n",
              "        \n",
              "  <svg xmlns=\"http://www.w3.org/2000/svg\" height=\"24px\"viewBox=\"0 0 24 24\"\n",
              "       width=\"24px\">\n",
              "    <path d=\"M0 0h24v24H0V0z\" fill=\"none\"/>\n",
              "    <path d=\"M18.56 5.44l.94 2.06.94-2.06 2.06-.94-2.06-.94-.94-2.06-.94 2.06-2.06.94zm-11 1L8.5 8.5l.94-2.06 2.06-.94-2.06-.94L8.5 2.5l-.94 2.06-2.06.94zm10 10l.94 2.06.94-2.06 2.06-.94-2.06-.94-.94-2.06-.94 2.06-2.06.94z\"/><path d=\"M17.41 7.96l-1.37-1.37c-.4-.4-.92-.59-1.43-.59-.52 0-1.04.2-1.43.59L10.3 9.45l-7.72 7.72c-.78.78-.78 2.05 0 2.83L4 21.41c.39.39.9.59 1.41.59.51 0 1.02-.2 1.41-.59l7.78-7.78 2.81-2.81c.8-.78.8-2.07 0-2.86zM5.41 20L4 18.59l7.72-7.72 1.47 1.35L5.41 20z\"/>\n",
              "  </svg>\n",
              "      </button>\n",
              "      \n",
              "  <style>\n",
              "    .colab-df-container {\n",
              "      display:flex;\n",
              "      flex-wrap:wrap;\n",
              "      gap: 12px;\n",
              "    }\n",
              "\n",
              "    .colab-df-convert {\n",
              "      background-color: #E8F0FE;\n",
              "      border: none;\n",
              "      border-radius: 50%;\n",
              "      cursor: pointer;\n",
              "      display: none;\n",
              "      fill: #1967D2;\n",
              "      height: 32px;\n",
              "      padding: 0 0 0 0;\n",
              "      width: 32px;\n",
              "    }\n",
              "\n",
              "    .colab-df-convert:hover {\n",
              "      background-color: #E2EBFA;\n",
              "      box-shadow: 0px 1px 2px rgba(60, 64, 67, 0.3), 0px 1px 3px 1px rgba(60, 64, 67, 0.15);\n",
              "      fill: #174EA6;\n",
              "    }\n",
              "\n",
              "    [theme=dark] .colab-df-convert {\n",
              "      background-color: #3B4455;\n",
              "      fill: #D2E3FC;\n",
              "    }\n",
              "\n",
              "    [theme=dark] .colab-df-convert:hover {\n",
              "      background-color: #434B5C;\n",
              "      box-shadow: 0px 1px 3px 1px rgba(0, 0, 0, 0.15);\n",
              "      filter: drop-shadow(0px 1px 2px rgba(0, 0, 0, 0.3));\n",
              "      fill: #FFFFFF;\n",
              "    }\n",
              "  </style>\n",
              "\n",
              "      <script>\n",
              "        const buttonEl =\n",
              "          document.querySelector('#df-5b3c5801-29da-4892-8487-4b6bfc6779be button.colab-df-convert');\n",
              "        buttonEl.style.display =\n",
              "          google.colab.kernel.accessAllowed ? 'block' : 'none';\n",
              "\n",
              "        async function convertToInteractive(key) {\n",
              "          const element = document.querySelector('#df-5b3c5801-29da-4892-8487-4b6bfc6779be');\n",
              "          const dataTable =\n",
              "            await google.colab.kernel.invokeFunction('convertToInteractive',\n",
              "                                                     [key], {});\n",
              "          if (!dataTable) return;\n",
              "\n",
              "          const docLinkHtml = 'Like what you see? Visit the ' +\n",
              "            '<a target=\"_blank\" href=https://colab.research.google.com/notebooks/data_table.ipynb>data table notebook</a>'\n",
              "            + ' to learn more about interactive tables.';\n",
              "          element.innerHTML = '';\n",
              "          dataTable['output_type'] = 'display_data';\n",
              "          await google.colab.output.renderOutput(dataTable, element);\n",
              "          const docLink = document.createElement('div');\n",
              "          docLink.innerHTML = docLinkHtml;\n",
              "          element.appendChild(docLink);\n",
              "        }\n",
              "      </script>\n",
              "    </div>\n",
              "  </div>\n",
              "  "
            ]
          },
          "metadata": {},
          "execution_count": 5
        }
      ]
    },
    {
      "cell_type": "code",
      "metadata": {
        "id": "C8nZ6qw-8T5R",
        "colab": {
          "base_uri": "https://localhost:8080/",
          "height": 34
        },
        "outputId": "7a34c6d7-f106-4093-e1a9-a3310d69ca96"
      },
      "source": [
        "df_toronto.shape"
      ],
      "execution_count": null,
      "outputs": [
        {
          "output_type": "execute_result",
          "data": {
            "text/plain": [
              "(77, 3)"
            ]
          },
          "metadata": {
            "tags": []
          },
          "execution_count": 18
        }
      ]
    },
    {
      "cell_type": "markdown",
      "metadata": {
        "id": "WI15vPYT8T5T"
      },
      "source": [
        "#### Please Note: The number of unique postal codes is 77. If you think any part of my code is incorrect, feel free to teach or inform me. \n",
        "#### Thanks and Best Reagrds, "
      ]
    },
    {
      "cell_type": "code",
      "metadata": {
        "id": "Ga9lJXr78T5U"
      },
      "source": [],
      "execution_count": null,
      "outputs": []
    }
  ]
}